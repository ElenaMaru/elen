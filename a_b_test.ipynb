{
  "nbformat": 4,
  "nbformat_minor": 0,
  "metadata": {
    "colab": {
      "provenance": []
    },
    "kernelspec": {
      "name": "python3",
      "display_name": "Python 3"
    },
    "language_info": {
      "name": "python"
    }
  },
  "cells": [
    {
      "cell_type": "code",
      "execution_count": 3,
      "metadata": {
        "colab": {
          "base_uri": "https://localhost:8080/"
        },
        "id": "hy4I2MIsVNU-",
        "outputId": "96972673-59c5-409b-cd41-5e7f88258cae"
      },
      "outputs": [
        {
          "output_type": "stream",
          "name": "stdout",
          "text": [
            "Test option lift Conversion Rates by 59.68% with 98.2% probability.\n"
          ]
        }
      ],
      "source": [
        "# Байесовское A/B тестирование\n",
        "from scipy.stats import beta\n",
        "import numpy as np\n",
        "\n",
        "from math import lgamma\n",
        "from numba import jit\n",
        "\n",
        "# Определение calc_prob_between функции\n",
        "@jit\n",
        "def h(a, b, c, d):\n",
        "    num = lgamma(a + c) + lgamma(b + d) + lgamma(a + b) + lgamma(c + d)\n",
        "    den = lgamma(a) + lgamma(b) + lgamma(c) + lgamma(d) + lgamma(a + b + c + d)\n",
        "    return np.exp(num - den)\n",
        "\n",
        "@jit\n",
        "def g0(a, b, c):\n",
        "    return np.exp(lgamma(a + b) + lgamma(a + c) - (lgamma(a + b + c) + lgamma(a)))\n",
        "\n",
        "@jit\n",
        "def hiter(a, b, c, d):\n",
        "    while d > 1:\n",
        "        d -= 1\n",
        "        yield h(a, b, c, d) / d\n",
        "\n",
        "def g(a, b, c, d):\n",
        "    return g0(a, b, c) + sum(hiter(a, b, c, d))\n",
        "\n",
        "def calc_prob_between(beta1, beta2):\n",
        "    return g(beta1.args[0], beta1.args[1], beta2.args[0], beta2.args[1])\n",
        "\n",
        "# Показы страницы и конверсия для контрольной и тестовой группы\n",
        "imps_ctrl,convs_ctrl=16500, 30\n",
        "imps_test, convs_test=17000, 50\n",
        "\n",
        "# Инициализируются две beta функции\n",
        "a_C, b_C = convs_ctrl+1, imps_ctrl-convs_ctrl+1\n",
        "beta_C = beta(a_C, b_C)\n",
        "a_T, b_T = convs_test+1, imps_test-convs_test+1\n",
        "beta_T = beta(a_T, b_T)\n",
        "\n",
        "# На сколько конверсия для тестовой группы выше, чем для контрольной\n",
        "lift=(beta_T.mean()-beta_C.mean())/beta_C.mean()\n",
        "\n",
        "# Рсчет вероятности для тестовой и контрольной групп\n",
        "prob=calc_prob_between(beta_T, beta_C)\n",
        "\n",
        "print (f\"Test option lift Conversion Rates by {lift*100:2.2f}% with {prob*100:2.1f}% probability.\")\n"
      ]
    }
  ]
}